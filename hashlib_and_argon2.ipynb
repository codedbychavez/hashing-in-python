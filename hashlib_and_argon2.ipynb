{
 "cells": [
  {
   "cell_type": "markdown",
   "metadata": {},
   "source": [
    "# Hashlib and Argon2"
   ]
  },
  {
   "cell_type": "markdown",
   "metadata": {},
   "source": [
    "## Hashlib"
   ]
  },
  {
   "cell_type": "code",
   "execution_count": null,
   "metadata": {},
   "outputs": [],
   "source": [
    "## Import hashlib ##\n",
    "import hashlib"
   ]
  },
  {
   "cell_type": "code",
   "execution_count": 22,
   "metadata": {
    "scrolled": false
   },
   "outputs": [
    {
     "data": {
      "text/plain": [
       "{'blake2b',\n",
       " 'blake2s',\n",
       " 'md5',\n",
       " 'sha1',\n",
       " 'sha224',\n",
       " 'sha256',\n",
       " 'sha384',\n",
       " 'sha3_224',\n",
       " 'sha3_256',\n",
       " 'sha3_384',\n",
       " 'sha3_512',\n",
       " 'sha512',\n",
       " 'shake_128',\n",
       " 'shake_256'}"
      ]
     },
     "execution_count": 22,
     "metadata": {},
     "output_type": "execute_result"
    }
   ],
   "source": [
    "## Get a list of hash algorithms from this module that is supported on all platforms ##\n",
    "hashlib.algorithms_guaranteed"
   ]
  },
  {
   "cell_type": "markdown",
   "metadata": {},
   "source": [
    "### Hashing a string with md5"
   ]
  },
  {
   "cell_type": "code",
   "execution_count": 25,
   "metadata": {},
   "outputs": [
    {
     "name": "stdout",
     "output_type": "stream",
     "text": [
      "f3c73138df6f00be0c8e83ba14e58e2e\n"
     ]
    }
   ],
   "source": [
    "## Importing md5 from hashlib ##\n",
    "from hashlib import md5\n",
    "\n",
    "## Getting the md5 hash ##\n",
    "hash_result = md5(b'this is just a regular string')\n",
    "\n",
    "## printing the the hash result ##\n",
    "print(hash_result.hexdigest())"
   ]
  },
  {
   "cell_type": "markdown",
   "metadata": {},
   "source": [
    "### Hashing a string with sha512"
   ]
  },
  {
   "cell_type": "code",
   "execution_count": 2,
   "metadata": {},
   "outputs": [
    {
     "name": "stdout",
     "output_type": "stream",
     "text": [
      "a593be50301801c5a45e8d710db09dbdd863b0eb4f2e854030f0a45d2d5a1876de9018e505e38480b3f21217eb9c7bddefc8c91495886781641a7ca497eabaed\n"
     ]
    }
   ],
   "source": [
    "## Importing sha512 from hashlib ##\n",
    "from hashlib import sha512\n",
    "\n",
    "## Getting the sha512 hash ##\n",
    "sha512_hash_result = sha512(b'this is just a regular string')\n",
    "\n",
    "## Printing the has result ##\n",
    "print(sha512_hash_result.hexdigest())"
   ]
  },
  {
   "cell_type": "markdown",
   "metadata": {},
   "source": [
    "### Using the .update method"
   ]
  },
  {
   "cell_type": "code",
   "execution_count": 4,
   "metadata": {},
   "outputs": [
    {
     "name": "stdout",
     "output_type": "stream",
     "text": [
      "Hash of original string:  ceb2ba3119c7dfd284fda44234d7aa03\n",
      "Hash result of updated string:  2efe5a96afb4cbd1739c186cbc44d920\n"
     ]
    }
   ],
   "source": [
    "## Importing md5 from hashlib ##\n",
    "from hashlib import md5\n",
    "\n",
    "## Hashing the original string using the md5 algorithm ##\n",
    "md5_hash_result = md5(b\"we are going to hash this sentence then add a few words to it\")\n",
    "\n",
    "## Original hash computed from orginal string ##\n",
    "print('Hash of original string: ', md5_hash_result.hexdigest())\n",
    "\n",
    "## Adding a few words to the sentence using the .update method ##\n",
    "md5_hash_result.update(b'new words to add')\n",
    "\n",
    "## The .update method concatenates the two strings for us \"previous string\" + \"new string\" ##\n",
    "\n",
    "##  The hash result of the updated string ##\n",
    "print('Hash result of updated string: ', md5_hash_result.hexdigest())\n"
   ]
  },
  {
   "cell_type": "code",
   "execution_count": 5,
   "metadata": {},
   "outputs": [
    {
     "data": {
      "text/plain": [
       "16"
      ]
     },
     "execution_count": 5,
     "metadata": {},
     "output_type": "execute_result"
    }
   ],
   "source": [
    "md5_hash_result.digest_size"
   ]
  },
  {
   "cell_type": "markdown",
   "metadata": {},
   "source": [
    "### Determining the digest_size"
   ]
  },
  {
   "cell_type": "code",
   "execution_count": 11,
   "metadata": {},
   "outputs": [
    {
     "name": "stdout",
     "output_type": "stream",
     "text": [
      "The md5 hash is:  f8a7c62be8a16e280bbbce4cd3142b1f\n",
      "The digest size is: 16\n"
     ]
    }
   ],
   "source": [
    "## Importing md5 from hashlib ##\n",
    "from hashlib import md5\n",
    "\n",
    "## calcuate the md5 hash of a string ##\n",
    "md5_hash = md5(b'this is an example string')\n",
    "\n",
    "## print the md5 hash of the string ##\n",
    "print('The md5 hash is: ', md5_hash.hexdigest())\n",
    "\n",
    "## Determining the digest size of the md5 hash returned above ##\n",
    "\n",
    "print('The digest size is:', md5_hash.digest_size)"
   ]
  },
  {
   "cell_type": "markdown",
   "metadata": {},
   "source": [
    "### Password Hashing using .pbkdf2_hmac"
   ]
  },
  {
   "cell_type": "code",
   "execution_count": 15,
   "metadata": {},
   "outputs": [
    {
     "name": "stdout",
     "output_type": "stream",
     "text": [
      "The derived_key is:  168f865cdec571999b253a00c2e140d7dddd96ab2e266523a0a9594929db06f8\n"
     ]
    }
   ],
   "source": [
    "## Importing hashlib ##\n",
    "\n",
    "import hashlib\n",
    "\n",
    "## Import sha256 from hashlib ##\n",
    "\n",
    "from hashlib import sha256\n",
    "\n",
    "## Parameters that will be used to obtain the derived_key ##\n",
    "\n",
    "# hash_name: sha256\n",
    "# password: p@ssword2020\n",
    "# salt: s@1t123!!\n",
    "# iterations: 100000\n",
    "# dklen: None\n",
    "\n",
    "## Obtaining the derived key ##\n",
    "derived_key = hashlib.pbkdf2_hmac('sha256', b'p@ssword2020', b's@1t123!!', 100000, dklen=None)\n",
    "\n",
    "# Print the derived_key\n",
    "print('The derived_key is: ', derived_key.hex())\n"
   ]
  },
  {
   "cell_type": "markdown",
   "metadata": {},
   "source": [
    "## Argon2"
   ]
  },
  {
   "cell_type": "code",
   "execution_count": 17,
   "metadata": {},
   "outputs": [],
   "source": [
    "# Installing argon2\n",
    "\n",
    "pip install argon2-cffi"
   ]
  },
  {
   "cell_type": "code",
   "execution_count": 7,
   "metadata": {},
   "outputs": [
    {
     "name": "stdout",
     "output_type": "stream",
     "text": [
      "\u001b[31mERROR: Could not find a version that satisfies the requirement binascii (from versions: none)\u001b[0m\r\n",
      "\u001b[31mERROR: No matching distribution found for binascii\u001b[0m\r\n"
     ]
    }
   ],
   "source": [
    "# Install a pip package in the current Jupyter kernel\n",
    "import sys\n",
    "# !{sys.executable} -m pip install argon2-cffi\n",
    "!{sys.executable} -m pip install binascii"
   ]
  },
  {
   "cell_type": "markdown",
   "metadata": {},
   "source": [
    "### Using Argon2 for secure password hashing"
   ]
  },
  {
   "cell_type": "code",
   "execution_count": 6,
   "metadata": {},
   "outputs": [
    {
     "name": "stdout",
     "output_type": "stream",
     "text": [
      "The derived key using the agron2 key derivation algorith is:  $argon2id$v=19$m=102400,t=2,p=8$Pf4NoKzgePJSQ7o1QTvuLQ$LiDfCPkQrboIkD2InnclBQ\n"
     ]
    }
   ],
   "source": [
    "# Importing argon2\n",
    "\n",
    "from argon2 import PasswordHasher\n",
    "\n",
    "# Obtaining a derived key from a password\n",
    "\n",
    "password_hasher = PasswordHasher()\n",
    "\n",
    "argon2_derived_key = password_hasher.hash('p@ssword2020')\n",
    "\n",
    "print('The derived key using the agron2 key derivation algorith is: ', argon2_derived_key)\n"
   ]
  },
  {
   "cell_type": "code",
   "execution_count": 15,
   "metadata": {},
   "outputs": [
    {
     "name": "stdout",
     "output_type": "stream",
     "text": [
      "The derived key (in binary format) using the agron2 key derivation algorithm is:  $argon2id$v=19$m=102400,t=2,p=8$SkQZc4HRqAwjg8IofKRnVg$RXdh9ELUy7r4iYSviZWvgA\n",
      "The derived key (in ascii hex format) using the agron2 key derivation algorithm is:  b'4a4746795a3239754d6d6c6b4a4859394d546b6b625430784d4449304d444173644430794c4841394f43525461314661597a5249556e46426432706e4f456c765a6b7453626c5a6e4a464a595a47673552557856655464794e476c5a55335a70576c64325a30453d'\n"
     ]
    }
   ],
   "source": [
    "# Importing argon2, binascii, base64\n",
    "\n",
    "import binascii, base64\n",
    "from argon2 import PasswordHasher\n",
    "\n",
    "# Obtaining a derived key from a password\n",
    "\n",
    "password_hasher = PasswordHasher()\n",
    "argon2_derived_key = password_hasher.hash(\"p@ssword2020\")\n",
    "\n",
    "print('The derived key (in binary format) using the agron2 key derivation algorithm is: ', argon2_derived_key)\n",
    "\n",
    "# Convert the returned argon2_derived_key to data bytes then convert the data bytes to base46\n",
    "\n",
    "argon2_derived_key_to_data_bytes = argon2_derived_key.encode(\"utf-8\")\n",
    "\n",
    "argon2_derived_key_byte_obj = base64.b64encode(argon2_derived_key_to_data_bytes)\n",
    "\n",
    "argon2_derived_key_hex_version = binascii.hexlify(argon2_derived_key_byte_obj)\n",
    "\n",
    "print('The derived key (in ascii hex format) using the agron2 key derivation algorithm is: ', argon2_derived_key_hex_version)\n"
   ]
  },
  {
   "cell_type": "markdown",
   "metadata": {},
   "source": [
    "### Comparing password hashes with Argon2"
   ]
  },
  {
   "cell_type": "code",
   "execution_count": 12,
   "metadata": {},
   "outputs": [
    {
     "name": "stdout",
     "output_type": "stream",
     "text": [
      "Sorry, the passwords did not match. Try again!\n"
     ]
    }
   ],
   "source": [
    "# Import argon2\n",
    "from argon2 import PasswordHasher\n",
    "\n",
    "# Argon2 stored hash\n",
    "password_hasher = PasswordHasher()\n",
    "argon2_stored_hash = password_hasher.hash(\"p@ssword2020\")\n",
    "\n",
    "#  Using try/ Except to check if password is valid\n",
    "try:\n",
    "    verifyValid = password_hasher.verify(argon2_stored_hash, \"new_password\")\n",
    "    print('Passwords match')\n",
    "except:\n",
    "    print('Sorry, the passwords did not match. Try again!')"
   ]
  }
 ],
 "metadata": {
  "kernelspec": {
   "display_name": "Python 3.8.2 64-bit",
   "language": "python",
   "name": "python38264bitcb7c743ba53e48d7a7d4f4ae536e351d"
  },
  "language_info": {
   "codemirror_mode": {
    "name": "ipython",
    "version": 3
   },
   "file_extension": ".py",
   "mimetype": "text/x-python",
   "name": "python",
   "nbconvert_exporter": "python",
   "pygments_lexer": "ipython3",
   "version": "3.8.2"
  }
 },
 "nbformat": 4,
 "nbformat_minor": 4
}
